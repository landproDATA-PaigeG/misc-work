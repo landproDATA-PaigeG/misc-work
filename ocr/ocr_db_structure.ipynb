{
 "cells": [
  {
   "cell_type": "code",
   "execution_count": 19,
   "id": "2d2e03ef",
   "metadata": {},
   "outputs": [],
   "source": [
    "import pandas as pd\n",
    "from sqlalchemy import create_engine\n",
    "import os\n",
    "from dotenv import load_dotenv\n",
    "from openai import OpenAI\n",
    "import numpy as np\n",
    "from sklearn.metrics.pairwise import cosine_similarity\n",
    "from tqdm import tqdm\n",
    "\n",
    "oai_client = OpenAI(api_key =os.getenv(\"LANDPRO_OAI_KEY\"))\n",
    "\n",
    "load_dotenv('/Users/paigegiese/SYG/landproDATA_code/misc-work/.env')\n",
    "\n",
    "username = os.getenv(\"DB_USER\")\n",
    "password = os.getenv(\"DB_PASSWORD\")\n",
    "host = os.getenv(\"DB_HOST\")\n",
    "port = os.getenv(\"DB_PORT\")\n",
    "\n",
    "# Create SQLAlchemy engine\n",
    "engine = create_engine(f\"mysql+mysqlconnector://{username}:{password}@{host}:{port}/sandbox_paigeg\",connect_args={\"buffered\": True})\n",
    "# query = \"SELECT * FROM instruments\"\n",
    "# df = pd.read_sql(query, con=engine)\n",
    "# df.head()\n",
    "\n",
    "# query = \"SHOW TABLES;\"\n",
    "# tables_df = pd.read_sql(query, con=engine)\n",
    "# print(tables_df)"
   ]
  },
  {
   "cell_type": "code",
   "execution_count": 18,
   "id": "f666b672",
   "metadata": {},
   "outputs": [],
   "source": [
    "engine.dispose()"
   ]
  },
  {
   "cell_type": "code",
   "execution_count": 7,
   "id": "b79ab96d",
   "metadata": {},
   "outputs": [
    {
     "data": {
      "text/plain": [
       "['llm_api_call_configs',\n",
       " 'llm_api_call_versions',\n",
       " 'llm_parameters',\n",
       " 'llm_prompts',\n",
       " 'llm_structured_output']"
      ]
     },
     "execution_count": 7,
     "metadata": {},
     "output_type": "execute_result"
    }
   ],
   "source": [
    "[table for table in tables_df['Tables_in_sandbox_paigeg'] if table.startswith('llm')]"
   ]
  },
  {
   "cell_type": "markdown",
   "id": "41efba53",
   "metadata": {},
   "source": [
    "# Table Writes"
   ]
  },
  {
   "cell_type": "code",
   "execution_count": null,
   "id": "96a68e24",
   "metadata": {},
   "outputs": [],
   "source": [
    "from pydantic import BaseModel, Field\n",
    "from typing import Annotated, Optional, List, Literal\n",
    "import json\n",
    "from sqlalchemy import text"
   ]
  },
  {
   "cell_type": "markdown",
   "id": "2c7e19b2",
   "metadata": {},
   "source": [
    "## llm_api_call_configs"
   ]
  },
  {
   "cell_type": "raw",
   "id": "33af6843",
   "metadata": {
    "vscode": {
     "languageId": "raw"
    }
   },
   "source": [
    "CREATE TABLE llm_api_call_configs (\n",
    "    id INT AUTO_INCREMENT PRIMARY KEY,\n",
    "    name VARCHAR(100) NOT NULL,               -- friendly name for the call\n",
    "    description TEXT,                         -- optional description\n",
    "    model VARCHAR(50) NOT NULL,               -- OpenAI model (e.g., gpt-4.1, gpt-4o-mini)\n",
    "    version INT NOT NULL DEFAULT 1,           -- version of the base config\n",
    "    active TINYINT(1) DEFAULT 1,              -- is this call active\n",
    "    credential_key VARCHAR(100) DEFAULT 'OPENAI_API_KEY', -- the name of the env var that stores the api key; defaulting to OPENAI \n",
    "    created_by VARCHAR(50),                   -- who created it\n",
    "    updated_by VARCHAR(50),                   -- who last updated it\n",
    "    created_at TIMESTAMP DEFAULT CURRENT_TIMESTAMP,\n",
    "    updated_at TIMESTAMP DEFAULT CURRENT_TIMESTAMP ON UPDATE CURRENT_TIMESTAMP\n",
    ");"
   ]
  },
  {
   "cell_type": "code",
   "execution_count": null,
   "id": "45ce4de1",
   "metadata": {},
   "outputs": [],
   "source": [
    "query = \"\"\" USE sandbox_paigeg;\n",
    "INSERT INTO llm_api_call_configs \n",
    "(name, description, model, version, active, credential_key, created_by, updated_by)\n",
    "VALUES\n",
    "('document_ai_ocr', 'Returns structured output for subdivision documents processed by DocumentAI', 'gpt-4o-mini', 1, 1, 'OPENAI_API_KEY', 'landproDATA-PaigeG', 'landproDATA-PaigeG');\n",
    "\"\"\"\n",
    "\n",
    "with engine.connect() as conn:\n",
    "    conn.execute(text(query))\n",
    "    conn.close()"
   ]
  },
  {
   "cell_type": "markdown",
   "id": "5ec70cb3",
   "metadata": {},
   "source": [
    "## structured_outputs"
   ]
  },
  {
   "cell_type": "markdown",
   "id": "3c701a4f",
   "metadata": {},
   "source": [
    "!! THIS NEEDS WORK - FINNICKY WITH THE JSON DUMPING"
   ]
  },
  {
   "cell_type": "code",
   "execution_count": null,
   "id": "a48d9940",
   "metadata": {},
   "outputs": [],
   "source": [
    "class Person(BaseModel):\n",
    "    first_name: Annotated[str, Field(description=\"A persons first name\")]\n",
    "    last_name: Annotated[str, Field(description=\"A persons last name\")]\n",
    "    title: Annotated[str, Field(description=\"A persons job title\")]\n",
    "    license_number: Annotated[str, Field(description=\"A persons license number, if applicable (likely for plats and surveys), where the person is a certified professional\")]\n",
    "\n",
    "class Entities(BaseModel):\n",
    "    name: Annotated[str, Field(description=\"The entity full name (including suffices like LLC, or inc)\")]\n",
    "    type: Annotated[Literal['state', 'county', 'city','company','parcel_name','other'], Field(description=\"Identify entities in the document and categorize by type. Use other if the existing types dont fit the context\")]\n",
    "    inferred_context: Annotated[str, Field(description=\"A 200-character description of why this entity is present. Why are they referenced? What appears to be the purpose of their presence?\")]\n",
    "\n",
    "class TownshipSectionRange(BaseModel):\n",
    "    range: Annotated[str, Field(description=\"Range\")]\n",
    "    section: Annotated[str, Field(description=\"Section\")]\n",
    "    township: Annotated[str, Field(description=\"Township\")]\n",
    "\n",
    "class Document(BaseModel):\n",
    "    people: Annotated[Optional[List[Person]], Field(\"Returns a list of people identified from the extracted text\")] \n",
    "    entities: Annotated[Optional[List[Entities]], Field(\"Returns a list of non-human entities identified from the extracted text\")] \n",
    "    township_section_range: Annotated[TownshipSectionRange, Field(description=\"Township, section, and range. Return None if not present.\")]\n",
    "    legal_description: Annotated[str, Field(description=\"Legal description from the extracted text - it is critical this is extremely precise to the original text.\")]\n",
    "\n",
    "    # Generate JSON Schema\n",
    "document_schema_json = Document.model_json_schema()\n",
    "\n",
    "# Pretty print or convert to string for DB\n",
    "schema_json_str = json.dumps(document_schema_json, indent=2)\n",
    "print(schema_json_str)"
   ]
  },
  {
   "cell_type": "markdown",
   "id": "7febdce4",
   "metadata": {},
   "source": [
    "## llm_prompts"
   ]
  },
  {
   "cell_type": "raw",
   "id": "49728ad7",
   "metadata": {
    "vscode": {
     "languageId": "raw"
    }
   },
   "source": [
    "    id INT AUTO_INCREMENT PRIMARY KEY,\n",
    "    api_call_id INT NOT NULL,\n",
    "    text TEXT NOT NULL,                       -- the actual prompt\n",
    "    version INT NOT NULL DEFAULT 1,           -- version of this prompt\n",
    "    active TINYINT(1) DEFAULT 1,\n",
    "    created_by VARCHAR(50),\n",
    "    updated_by VARCHAR(50),\n",
    "    created_at TIMESTAMP DEFAULT CURRENT_TIMESTAMP,\n",
    "    updated_at TIMESTAMP DEFAULT CURRENT_TIMESTAMP ON UPDATE CURRENT_TIMESTAMP,\n",
    "    FOREIGN KEY (api_call_id) REFERENCES llm_api_call_configs(id)"
   ]
  },
  {
   "cell_type": "markdown",
   "id": "b167ba1a",
   "metadata": {},
   "source": [
    "!! ALSO FINNICKY DUE TO JSON/TEXT/SINGLE QUOTES VS MULTIPLE QUOTES"
   ]
  },
  {
   "cell_type": "code",
   "execution_count": null,
   "id": "b561a2ba",
   "metadata": {},
   "outputs": [],
   "source": [
    "prompt = \"\"\"{\"role\": \"system\", \"content\": \"You are a helpful assistant at interpreting raw text extracted from complex land and parcel documents and surveys. You will always be provided one document at a time. \\\n",
    "             ##Precise instructions:\\\n",
    "             1. Carefully analyze the extracted text from the OCR process. Each input will delineate the files with the words [FILE NAME], which indicates page separation within the same document. \\\n",
    "                Similarly, the OCR processor identifies different paragraphs, which are delineated with [PARAGRAPH]. This should help make logical assumptions about the request. \\\n",
    "                Do not use prior knowledge or information from outside the context to answer the questions. Only use the information provided in the context to answer the questions.\\\n",
    "             2. Review the required JSON structure for the response\\\n",
    "             3. Fulfill the request to the best of your ability\\\n",
    "             4.  Review the input text structure to ensure the Legal Description is as complete and precise as possible. \\\n",
    "             Hints to help find the legal description: \\\n",
    "             - Use paragraph and header/subtitle hints, like isolating text between headers.\\\n",
    "             - Legal descriptions often explain a geographic polygon that is able to be closed when drawn.\\\n",
    "             - Note language that describes an area of ownerhip\\\n",
    "             - Note language like 'the point of beginning', and subsequent measurements. e.g. South 00°38 16 West, 305.80 feet\\\n",
    "             - Note when a block/paragraph of text seemingly terminates with an acreage statement.\\\n",
    "            ### A complete example of a legal description \\\n",
    "            # [PARAGRAPH] # \\\n",
    "            A portion of Lots 25, 26, and 27, Roberts and Hill Subdivision as is filed in Book 4 of Plats at Page 159, records of Ada County, Idaho located in the\\\n",
    "            Southeast 1/4 of the Northeast 1/4 of Section 14, T.4N., R.1E., B.M., City of Boise, Ada County, Idaho more particularly described as follows:\\\n",
    "            # [PARAGRAPH] # \\\n",
    "            Commencing at the East 1/4 corner of said Section 14, from which the Center 1/4 corner of said Section 14 bears North 88°50 47 West, 2635.27 feet;\\\n",
    "            thence on the East boundary line of said Section 14, North 00°38 16 East, 1185.68 feet; thence leaving said East boundary line, North 88°35 49 West, 25.00\\\n",
    "            feet to the westerly right-of-way line of N. Bogart Lane and the REAL POINT OF BEGINNING;\\\n",
    "            # [PARAGRAPH] # \\\n",
    "            thence on said westerly right-of-way line the following seven (7) courses and distances:\\\n",
    "            # [PARAGRAPH] # \\\n",
    "            South 00°38 16  West, 305.80 feet;\\\n",
    "            South 07°14 08  West, 65.87 feet;\\\n",
    "            # [PARAGRAPH] # \\\n",
    "            South 03°53 20  West, 48.39 feet;\\\n",
    "            # [PARAGRAPH] # \\\n",
    "            71.67 feet along the arc of curve to the right having a radius of 60.00 feet, a central angle of 68°26 22  and a long chord which bears South\\\n",
    "            38°06 30  West, 67.48 feet;\\\n",
    "            # [PARAGRAPH] # \\\n",
    "            52.27 feet along the arc of curve to the right having a radius of 135.00 feet, a central angle of 22°11 07  and a long chord which bears South\\\n",
    "            83°25 15  West, 51.95 feet;\\\n",
    "            # [PARAGRAPH] # \\\n",
    "            81.83 feet along the arc of a curve to the left having a radius of 615.00 feet, a central angle of 07°37 26  and a long chord which bears North\\\n",
    "            89°17 54  West, 81.77 feet;\\\n",
    "            # [PARAGRAPH] #  \\\n",
    "            16.80 feet along the arc of a curve to the right having a radius of 585.00 feet, a central angle of 01°38 44  and a long chord which bears South\\\n",
    "            87°42 44  West, 16.80 feet to the northerly right-of-way line of W. Hill Road Parkway;\\\n",
    "            # [PARAGRAPH] # \\\n",
    "            thence on said northerly right-of-way line the following two (2) courses and distances:\\\n",
    "            # [PARAGRAPH] # \\\n",
    "            103.13 feet along the arc of a curve to the left having a radius of 1,193.92 feet, a central angle of 04°56 57  and a long chord which bears North\\\n",
    "            86°30 32  West, 103.10 feet;\\\n",
    "            # [PARAGRAPH] # \\\n",
    "            North 88°59 01  West, 659.42 feet to the west boundary line of said Lot 27, Roberts and Hill Subdivision;\\\n",
    "            # [PARAGRAPH] # \\\n",
    "            thence on said west boundary line, North 00°35 32  East, 608.79 feet to the north boundary line of said Roberts and Hill Subdivision;\\\n",
    "            thence on said north boundary line, South 88°35 49  East, 814.40 feet;\\\n",
    "            # [PARAGRAPH] # \\\n",
    "            thence leaving said north boundary line, South 00°38 16  West, 125.00 feet;\\\n",
    "            thence South 88°35 49  East, 150.00 feet to the REAL POINT OF BEGINNING.\\\n",
    "            # [PARAGRAPH] # \\\n",
    "            Containing 12.93 acres, more or less.\\\n",
    "            ## Formatting Instructions\\\n",
    "             Use as precise of language as possible. Do not include any explanation in the reply. Only include the extracted information in the reply.\\\n",
    "             Only in 'inferred_context' are you allowed to practice freedom of explanation.\"},\n",
    "            {\"role\": \"user\", \"content\": f\"Return your interpretation of the following OCR text using the structured output model provided: {text}\"}\"\"\""
   ]
  },
  {
   "cell_type": "code",
   "execution_count": null,
   "id": "8977147c",
   "metadata": {},
   "outputs": [],
   "source": [
    "query = f\"\"\"USE sandbox_paigeg;\n",
    "INSERT INTO llm_prompts (api_call_id, text, version, active, created_by,updated_by) VALUES (\n",
    "2,\n",
    "'{prompt}',\n",
    "1,\n",
    "1,\n",
    "'landproDATA-PaigeG',\n",
    "'landproDATA-PaigeG'\n",
    ");\"\"\"\n",
    "\n",
    "with engine.connect() as conn:\n",
    "    conn.execute(text(query))\n"
   ]
  },
  {
   "cell_type": "code",
   "execution_count": null,
   "id": "0d083a00",
   "metadata": {},
   "outputs": [],
   "source": [
    "print(query)"
   ]
  },
  {
   "cell_type": "markdown",
   "id": "063c2a22",
   "metadata": {},
   "source": [
    "## llm_parameters"
   ]
  },
  {
   "cell_type": "code",
   "execution_count": 10,
   "id": "f7252c13",
   "metadata": {},
   "outputs": [],
   "source": [
    "from sqlalchemy import  text"
   ]
  },
  {
   "cell_type": "raw",
   "id": "4ce9e5ac",
   "metadata": {
    "vscode": {
     "languageId": "raw"
    }
   },
   "source": [
    "CREATE TABLE llm_parameters (\n",
    "    id INT AUTO_INCREMENT PRIMARY KEY,\n",
    "    api_call_id INT NOT NULL,\n",
    "    key_name VARCHAR(50) NOT NULL,\n",
    "    value JSON NOT NULL,                      -- store as JSON (could be string, number, array)\n",
    "    version INT NOT NULL DEFAULT 1,\n",
    "    active TINYINT(1) DEFAULT 1,\n",
    "    created_by VARCHAR(50),\n",
    "    updated_by VARCHAR(50),\n",
    "    created_at TIMESTAMP DEFAULT CURRENT_TIMESTAMP,\n",
    "    updated_at TIMESTAMP DEFAULT CURRENT_TIMESTAMP ON UPDATE CURRENT_TIMESTAMP,\n",
    "    FOREIGN KEY (api_call_id) REFERENCES llm_api_call_configs(id)\n",
    ");\n"
   ]
  },
  {
   "cell_type": "code",
   "execution_count": 8,
   "id": "d68eea70",
   "metadata": {},
   "outputs": [],
   "source": [
    "query = \"\"\"USE sandbox_paigeg;\n",
    "INSERT INTO llm_parameters (api_call_id, key_name, value, version, active, created_by, updated_by) VALUES (\n",
    "2,\n",
    "'temperature',\n",
    "1,\n",
    "1,\n",
    "1,\n",
    "'landproDATA-PaigeG',\n",
    "'landproDATA-PaigeG'\n",
    ");\"\"\""
   ]
  },
  {
   "cell_type": "code",
   "execution_count": 12,
   "id": "ac0e3637",
   "metadata": {},
   "outputs": [],
   "source": [
    "engine.dispose()"
   ]
  },
  {
   "cell_type": "code",
   "execution_count": 14,
   "id": "f3d988a8",
   "metadata": {},
   "outputs": [
    {
     "name": "stdout",
     "output_type": "stream",
     "text": [
      "USE sandbox_paigeg;\n",
      "INSERT INTO llm_parameters (api_call_id, key_name, value, version, active, created_by, updated_by) VALUES (\n",
      "2,\n",
      "'temperature',\n",
      "1,\n",
      "1,\n",
      "1,\n",
      "'landproDATA-PaigeG',\n",
      "'landproDATA-PaigeG'\n",
      ");\n"
     ]
    }
   ],
   "source": [
    "print(query)"
   ]
  },
  {
   "cell_type": "code",
   "execution_count": 17,
   "id": "cd045aa3",
   "metadata": {},
   "outputs": [],
   "source": [
    "# with engine.connect() as conn:\n",
    "#     conn.execute(text(query))"
   ]
  },
  {
   "cell_type": "markdown",
   "id": "d714d245",
   "metadata": {
    "vscode": {
     "languageId": "raw"
    }
   },
   "source": [
    "## llm_api_call_versions"
   ]
  },
  {
   "cell_type": "raw",
   "id": "d30e3b34",
   "metadata": {
    "vscode": {
     "languageId": "raw"
    }
   },
   "source": [
    "CREATE TABLE llm_api_call_versions (\n",
    "    id INT AUTO_INCREMENT PRIMARY KEY,\n",
    "    api_call_id INT NOT NULL,\n",
    "    prompt_id INT NOT NULL,\n",
    "    schema_id INT NOT NULL,\n",
    "    parameters_version INT NOT NULL,           -- references all params of this version for the call\n",
    "    version_label VARCHAR(50),                -- optional human-friendly label (e.g., \"prod-2025-07-24\")\n",
    "    active TINYINT(1) DEFAULT 1,\n",
    "    created_by VARCHAR(50),\n",
    "    updated_by VARCHAR(50),\n",
    "    created_at TIMESTAMP DEFAULT CURRENT_TIMESTAMP,\n",
    "    updated_at TIMESTAMP DEFAULT CURRENT_TIMESTAMP ON UPDATE CURRENT_TIMESTAMP,\n",
    "    FOREIGN KEY (api_call_id) REFERENCES llm_api_call_configs(id),\n",
    "    FOREIGN KEY (prompt_id) REFERENCES llm_prompts(id),\n",
    "    FOREIGN KEY (schema_id) REFERENCES llm_structured_output(id)\n",
    "\n",
    ");"
   ]
  },
  {
   "cell_type": "code",
   "execution_count": null,
   "id": "49e156c9",
   "metadata": {},
   "outputs": [],
   "source": [
    "\"\"\"USE sandbox_paigeg;\n",
    "INSERT INTO llm_api_call_versions (api_call_id, prompt_id, schema_id,parameters_version,version_label, active, created_by,updated_by) VALUES (\n",
    "2,\n",
    "1,\n",
    "1,\n",
    "1,\n",
    "'v1',\n",
    "1,\n",
    "'landproDATA-PaigeG',\n",
    "'landproDATA-PaigeG'\n",
    ");\n",
    "\"\"\""
   ]
  },
  {
   "cell_type": "markdown",
   "id": "e28b38ca",
   "metadata": {},
   "source": [
    "# Recompile from the queries into a cURL request:"
   ]
  },
  {
   "cell_type": "code",
   "execution_count": null,
   "id": "38ab5a79",
   "metadata": {},
   "outputs": [],
   "source": []
  }
 ],
 "metadata": {
  "kernelspec": {
   "display_name": "landproDATA",
   "language": "python",
   "name": "landprodata"
  },
  "language_info": {
   "codemirror_mode": {
    "name": "ipython",
    "version": 3
   },
   "file_extension": ".py",
   "mimetype": "text/x-python",
   "name": "python",
   "nbconvert_exporter": "python",
   "pygments_lexer": "ipython3",
   "version": "3.11.12"
  }
 },
 "nbformat": 4,
 "nbformat_minor": 5
}
